{
 "cells": [
  {
   "cell_type": "markdown",
   "metadata": {},
   "source": [
    "#### Setup project with Github\n",
    "1. Data Ingestion\n",
    "2. Data Transformation\n",
    "3. Model Trainer\n",
    "4. Model Evaluation\n",
    "5. Model Deployment\n",
    "6. CI/CD Pipelines - Github actions"
   ]
  },
  {
   "cell_type": "markdown",
   "metadata": {},
   "source": [
    "Agenda\n",
    "\n",
    "1. Setup the Github repository\n",
    "   1. New Environment\n",
    "   2. Setup.py\n",
    "   3. requirements.txt\n",
    "2. src folder nad build the package"
   ]
  }
 ],
 "metadata": {
  "kernelspec": {
   "display_name": "Python 3",
   "language": "python",
   "name": "python3"
  },
  "language_info": {
   "name": "python",
   "version": "3.12.0"
  },
  "polyglot_notebook": {
   "kernelInfo": {
    "defaultKernelName": "csharp",
    "items": [
     {
      "aliases": [],
      "name": "csharp"
     }
    ]
   }
  }
 },
 "nbformat": 4,
 "nbformat_minor": 2
}
